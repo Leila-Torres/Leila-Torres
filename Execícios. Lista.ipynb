{
 "cells": [
  {
   "cell_type": "markdown",
   "metadata": {},
   "source": [
    "\n",
    " 1. Olá, Mundo! Escreva um programa que imprime \"Olá, Mundo!\" na tela."
   ]
  },
  {
   "cell_type": "code",
   "execution_count": 1,
   "metadata": {},
   "outputs": [
    {
     "name": "stdout",
     "output_type": "stream",
     "text": [
      "Olá, Mundo!\n"
     ]
    }
   ],
   "source": [
    "print(\"Olá, Mundo!\")"
   ]
  },
  {
   "cell_type": "markdown",
   "metadata": {},
   "source": [
    "2. Soma de Dois Números \n",
    "Peça ao usuário para digitar dois números e imprima a soma deles."
   ]
  },
  {
   "cell_type": "code",
   "execution_count": 2,
   "metadata": {},
   "outputs": [
    {
     "name": "stdout",
     "output_type": "stream",
     "text": [
      "A soma entre os número é 6\n"
     ]
    }
   ],
   "source": [
    "n1 = int(input(\"Insira o valor 1\"))\n",
    "n2 = int(input(\"Insira o valor 2\"))\n",
    "soma = n1+n2\n",
    "\n",
    "print(f\"A soma entre os números é {soma}.\")\n"
   ]
  },
  {
   "cell_type": "markdown",
   "metadata": {},
   "source": [
    " 3. Verificar Par ou Ímpar \n",
    "Peça ao usuário para digitar um número inteiro e informe se o número é par ou ímpar."
   ]
  },
  {
   "cell_type": "code",
   "execution_count": 5,
   "metadata": {},
   "outputs": [
    {
     "name": "stdout",
     "output_type": "stream",
     "text": [
      "Par\n"
     ]
    }
   ],
   "source": [
    "numero = int(input('Digite um número inteiro: '))\n",
    "\n",
    "if (numero%2) == 0:\n",
    "        print(\"Par\")\n",
    "else:\n",
    "        print(\"Ímpar\")"
   ]
  },
  {
   "cell_type": "markdown",
   "metadata": {},
   "source": [
    "   4. Calculadora Simples \n",
    "Crie um programa que peça dois números e a operação desejada (+, -, *, /) e exiba o resultado."
   ]
  },
  {
   "cell_type": "code",
   "execution_count": 71,
   "metadata": {},
   "outputs": [
    {
     "name": "stdout",
     "output_type": "stream",
     "text": [
      "O resultado da operação é 4\n"
     ]
    }
   ],
   "source": [
    "n1 = int(input(\"Insira o valor 1\"))\n",
    "n2 = int(input(\"Insira o valor 2\"))\n",
    "operação = input(\"Insira a operação, (+, -, /, *)\")\n",
    "\n",
    "if (operação) == \"+\":\n",
    "    print(f\"O resultado da operação é {(n1 + n2)}\")\n",
    "elif (operação) == \"-\":\n",
    "    print(f\"O resultado da operação é {(n1 - n2)}\")\n",
    "elif (operação) == \"*\":\n",
    "    print(f\"O resultado da operação é {(n1 * n2)}\")\n",
    "elif (operação) == \"/\":\n",
    "    print(f\"O resultado da operação é {(n1 / n2)}\")\n",
    "\n",
    "\n"
   ]
  },
  {
   "cell_type": "markdown",
   "metadata": {},
   "source": [
    "5. Média de Notas \n",
    "Peça ao usuário para digitar três notas e calcule a média delas."
   ]
  },
  {
   "cell_type": "code",
   "execution_count": 74,
   "metadata": {},
   "outputs": [
    {
     "name": "stdout",
     "output_type": "stream",
     "text": [
      "A média entre 5 e 5 e 5 é 5.0\n"
     ]
    }
   ],
   "source": [
    "n1 = int(input(\"Insira o valor 1\"))\n",
    "n2 = int(input(\"Insira o valor 2\"))\n",
    "n3 = int(input(\"Insira o valor 2\"))\n",
    "media = (n1+n2+n3)/3\n",
    "\n",
    "print(f\"A média entre {n1} e {n2} e {n3} é {media}\")"
   ]
  },
  {
   "cell_type": "markdown",
   "metadata": {},
   "source": [
    "   6. Converter Celsius para Fahrenheit \n",
    "Escreva um programa que converta uma temperatura de graus Celsius para Fahrenheit."
   ]
  },
  {
   "cell_type": "code",
   "execution_count": 28,
   "metadata": {},
   "outputs": [
    {
     "name": "stdout",
     "output_type": "stream",
     "text": [
      "A temperatura em Fahrenheit é 96.8\n"
     ]
    }
   ],
   "source": [
    "# F = C x 1,8 + 32 \n",
    "\n",
    "n1 = int(input(\"Insira a temperatura em Celsius\"))\n",
    "F = (n1*1.8) + 32\n",
    "print(f\"A temperatura em Fahrenheit é {F}\")"
   ]
  },
  {
   "cell_type": "markdown",
   "metadata": {},
   "source": [
    "7. Fatorial de um Número \n",
    "Peça ao usuário para digitar um número e calcule o fatorial desse número."
   ]
  },
  {
   "cell_type": "code",
   "execution_count": 38,
   "metadata": {},
   "outputs": [
    {
     "name": "stdout",
     "output_type": "stream",
     "text": [
      "5040\n"
     ]
    }
   ],
   "source": [
    "numero = int(input(\"Fatorial de: \") )\n",
    "\n",
    "resultado=1\n",
    "count=1\n",
    "\n",
    "while count <= numero:\n",
    "    resultado *= count\n",
    "    count += 1\n",
    "\n",
    "print(resultado)"
   ]
  },
  {
   "cell_type": "markdown",
   "metadata": {},
   "source": [
    "   8. Contagem de Números Ímpares \n",
    "Escreva um programa que conta e imprime todos os números ímpares entre 1 e 100."
   ]
  },
  {
   "cell_type": "code",
   "execution_count": 1,
   "metadata": {},
   "outputs": [
    {
     "name": "stdout",
     "output_type": "stream",
     "text": [
      "1= impar\n",
      "2= Par\n",
      "3= impar\n",
      "4= Par\n",
      "5= impar\n",
      "6= Par\n",
      "7= impar\n",
      "8= Par\n",
      "9= impar\n",
      "10= Par\n",
      "11= impar\n",
      "12= Par\n",
      "13= impar\n",
      "14= Par\n",
      "15= impar\n",
      "16= Par\n",
      "17= impar\n",
      "18= Par\n",
      "19= impar\n",
      "20= Par\n",
      "21= impar\n",
      "22= Par\n",
      "23= impar\n",
      "24= Par\n",
      "25= impar\n",
      "26= Par\n",
      "27= impar\n",
      "28= Par\n",
      "29= impar\n",
      "30= Par\n",
      "31= impar\n",
      "32= Par\n",
      "33= impar\n",
      "34= Par\n",
      "35= impar\n",
      "36= Par\n",
      "37= impar\n",
      "38= Par\n",
      "39= impar\n",
      "40= Par\n",
      "41= impar\n",
      "42= Par\n",
      "43= impar\n",
      "44= Par\n",
      "45= impar\n",
      "46= Par\n",
      "47= impar\n",
      "48= Par\n",
      "49= impar\n",
      "50= Par\n",
      "51= impar\n",
      "52= Par\n",
      "53= impar\n",
      "54= Par\n",
      "55= impar\n",
      "56= Par\n",
      "57= impar\n",
      "58= Par\n",
      "59= impar\n",
      "60= Par\n",
      "61= impar\n",
      "62= Par\n",
      "63= impar\n",
      "64= Par\n",
      "65= impar\n",
      "66= Par\n",
      "67= impar\n",
      "68= Par\n",
      "69= impar\n",
      "70= Par\n",
      "71= impar\n",
      "72= Par\n",
      "73= impar\n",
      "74= Par\n",
      "75= impar\n",
      "76= Par\n",
      "77= impar\n",
      "78= Par\n",
      "79= impar\n",
      "80= Par\n",
      "81= impar\n",
      "82= Par\n",
      "83= impar\n",
      "84= Par\n",
      "85= impar\n",
      "86= Par\n",
      "87= impar\n",
      "88= Par\n",
      "89= impar\n",
      "90= Par\n",
      "91= impar\n",
      "92= Par\n",
      "93= impar\n",
      "94= Par\n",
      "95= impar\n",
      "96= Par\n",
      "97= impar\n",
      "98= Par\n",
      "99= impar\n",
      "100= Par\n"
     ]
    }
   ],
   "source": [
    "for i in range(1, 101):\n",
    "    if (i%2) == 0:\n",
    "        print(f\"{i}= Par\")\n",
    "    elif (i%2) == 1:\n",
    "        print(f\"{i}= impar\")"
   ]
  },
  {
   "cell_type": "markdown",
   "metadata": {},
   "source": [
    "   9. Verificar Número Primo \n",
    "Peça ao usuário para digitar um número e verifique se ele é primo."
   ]
  },
  {
   "cell_type": "code",
   "execution_count": 70,
   "metadata": {},
   "outputs": [
    {
     "name": "stdout",
     "output_type": "stream",
     "text": [
      "NÃO é primo\n"
     ]
    }
   ],
   "source": [
    "from sympy import isprime\n",
    "\n",
    "numero = int(input(\"Digite um número: \"))\n",
    "if isprime(numero):\n",
    "    print(\"É primo\")\n",
    "else:\n",
    "    print(\"NÃO é primo\")"
   ]
  },
  {
   "cell_type": "markdown",
   "metadata": {},
   "source": [
    "   10. Inverter uma String \n",
    "Peça ao usuário para digitar uma string e imprima essa string de forma invertida."
   ]
  },
  {
   "cell_type": "code",
   "execution_count": null,
   "metadata": {},
   "outputs": [
    {
     "name": "stdout",
     "output_type": "stream",
     "text": [
      "ajol\n"
     ]
    }
   ],
   "source": [
    "texto = (input(\"insira um texto\"))\n",
    "string_invertida = ''.join(reversed(texto))\n",
    "print(string_invertida)"
   ]
  },
  {
   "cell_type": "markdown",
   "metadata": {},
   "source": [
    "11. Tabuada \n",
    "Peça ao usuário para digitar um número e imprima a tabuada desse número de 1 a 10."
   ]
  },
  {
   "cell_type": "code",
   "execution_count": 3,
   "metadata": {},
   "outputs": [
    {
     "name": "stdout",
     "output_type": "stream",
     "text": [
      "2 x 1 = 2\n",
      "2 x 2 = 4\n",
      "2 x 3 = 6\n",
      "2 x 4 = 8\n",
      "2 x 5 = 10\n",
      "2 x 6 = 12\n",
      "2 x 7 = 14\n",
      "2 x 8 = 16\n",
      "2 x 9 = 18\n",
      "2 x 10 = 20\n"
     ]
    }
   ],
   "source": [
    "numero = int(input(\"Digite um número inteiro: \"))\n",
    "\n",
    "for i in range(1, 11):\n",
    "    print(f\"{numero} x {i} = {numero * i}\")"
   ]
  },
  {
   "cell_type": "markdown",
   "metadata": {},
   "source": [
    "12. Contar Vogais em uma String \n",
    "Escreva um programa que conte o número de vogais em uma string fornecida pelo usuário."
   ]
  },
  {
   "cell_type": "code",
   "execution_count": 5,
   "metadata": {},
   "outputs": [
    {
     "name": "stdout",
     "output_type": "stream",
     "text": [
      "O número de vogais na string RAIO é: 3\n"
     ]
    }
   ],
   "source": [
    "def contar_vogais(texto):\n",
    "    vogais = \"aeiouAEIOU\"\n",
    "    contagem = 0\n",
    "    for vogal in texto:\n",
    "        if vogal in vogais:\n",
    "            contagem += 1\n",
    "    return contagem\n",
    "\n",
    "texto_usuario = input(\"Digite uma string: \")\n",
    "numero_de_vogais = contar_vogais(texto_usuario)\n",
    "print(f\"O número de vogais na string {texto_usuario} é: {numero_de_vogais}\")\n"
   ]
  },
  {
   "cell_type": "markdown",
   "metadata": {},
   "source": [
    "13. Soma dos Elementos de uma Lista \n",
    "Crie uma lista de números e escreva um programa que some todos os elementos dessa lista."
   ]
  },
  {
   "cell_type": "code",
   "execution_count": 6,
   "metadata": {},
   "outputs": [
    {
     "name": "stdout",
     "output_type": "stream",
     "text": [
      "A soma dos elementos da lista é: 55\n"
     ]
    }
   ],
   "source": [
    "lista = [1, 2, 3, 4, 5, 6, 7, 8, 9, 10]\n",
    "soma = sum(lista)\n",
    "print(\"A soma dos elementos da lista é:\", soma)"
   ]
  },
  {
   "cell_type": "markdown",
   "metadata": {},
   "source": [
    "   14. Encontrar o Maior Número em uma Lista \n",
    "Peça ao usuário para digitar uma lista de números e exiba o maior número dessa lista."
   ]
  },
  {
   "cell_type": "code",
   "execution_count": 8,
   "metadata": {},
   "outputs": [
    {
     "name": "stdout",
     "output_type": "stream",
     "text": [
      "O maior número da lista é: 15\n"
     ]
    }
   ],
   "source": [
    "def encontrar_maior_número():\n",
    "    lista = input(\"Digite uma lista de números separados por vírgula: \").split(\",\")\n",
    "    maior = float('-inf')\n",
    "    for numero in lista:\n",
    "        numero = int(numero)\n",
    "        if numero > maior:\n",
    "            maior = numero\n",
    "    return maior\n",
    "\n",
    "maior_número = encontrar_maior_número()\n",
    "\n",
    "print(\"O maior número da lista é:\", maior_número)"
   ]
  },
  {
   "cell_type": "markdown",
   "metadata": {},
   "source": [
    "   15. Números Pares em uma Lista \n",
    "Dada uma lista de números, crie um programa que exiba apenas os números pares."
   ]
  },
  {
   "cell_type": "code",
   "execution_count": 9,
   "metadata": {},
   "outputs": [
    {
     "name": "stdout",
     "output_type": "stream",
     "text": [
      "Os números pares são: [2, 4, 6, 8, 10]\n"
     ]
    }
   ],
   "source": [
    "def números_pares(lista):\n",
    "    pares = [num for num in lista if num % 2 == 0]\n",
    "    return pares\n",
    "\n",
    "lista = [1, 2, 3, 4, 5, 6, 7, 8, 9, 10]\n",
    "pares = números_pares(lista)\n",
    "print(\"Os números pares são:\", pares)"
   ]
  },
  {
   "cell_type": "markdown",
   "metadata": {},
   "source": [
    "   16. Contagem Regressiva \n",
    "Escreva um programa que faça uma contagem regressiva de 10 a 0, imprimindo os números na tela."
   ]
  },
  {
   "cell_type": "code",
   "execution_count": 10,
   "metadata": {},
   "outputs": [
    {
     "name": "stdout",
     "output_type": "stream",
     "text": [
      "10\n",
      "9\n",
      "8\n",
      "7\n",
      "6\n",
      "5\n",
      "4\n",
      "3\n",
      "2\n",
      "1\n",
      "0\n"
     ]
    }
   ],
   "source": [
    "import time\n",
    "\n",
    "def contagem_regressiva():\n",
    "    for segundos in range(10, -1, -1):\n",
    "        print(segundos)\n",
    "        time.sleep(1)\n",
    "\n",
    "contagem_regressiva()"
   ]
  },
  {
   "cell_type": "markdown",
   "metadata": {},
   "source": [
    "   17. Calculando a Sequência de Fibonacci \n",
    "Escreva um programa que gera os primeiros 10 números da sequência de Fibonacci."
   ]
  },
  {
   "cell_type": "code",
   "execution_count": 11,
   "metadata": {},
   "outputs": [
    {
     "name": "stdout",
     "output_type": "stream",
     "text": [
      "Os primeiros 10 números da sequência de Fibonacci são: [0, 1, 1, 2, 3, 5, 8, 13, 21, 34]\n"
     ]
    }
   ],
   "source": [
    "def fibonacci(n):\n",
    "    sequencia_fibonacci = [0, 1]\n",
    "    while len(sequencia_fibonacci) < n:\n",
    "        sequencia_fibonacci.append(sequencia_fibonacci[-1] + sequencia_fibonacci[-2])\n",
    "    return sequencia_fibonacci\n",
    "\n",
    "primeiros_10_numeros_fibonacci = fibonacci(10)\n",
    "\n",
    "\n",
    "print(\"Os primeiros 10 números da sequência de Fibonacci são:\", primeiros_10_numeros_fibonacci)"
   ]
  },
  {
   "cell_type": "markdown",
   "metadata": {},
   "source": [
    "   18. Simulação de Lançamento de Moeda \n",
    "Crie um programa que simule o lançamento de uma moeda (cara ou coroa) e exiba o resultado."
   ]
  },
  {
   "cell_type": "code",
   "execution_count": 22,
   "metadata": {},
   "outputs": [
    {
     "name": "stdout",
     "output_type": "stream",
     "text": [
      "O resultado do lançamento da moeda é: cara\n"
     ]
    }
   ],
   "source": [
    "import random\n",
    "\n",
    "def lançar_moeda():\n",
    "    resultado = random.choice([\"cara\", \"coroa\"])\n",
    "    return resultado\n",
    "\n",
    "lancamento_moeda = lançar_moeda()\n",
    "\n",
    "print(\"O resultado do lançamento da moeda é:\", lancamento_moeda) "
   ]
  },
  {
   "cell_type": "markdown",
   "metadata": {},
   "source": [
    "   19. Verificar Palíndromo \n",
    "Peça ao usuário para digitar uma palavra e verifique se ela é um palíndromo (lê-se da mesma forma de trás para frente)."
   ]
  },
  {
   "cell_type": "code",
   "execution_count": 24,
   "metadata": {},
   "outputs": [
    {
     "name": "stdout",
     "output_type": "stream",
     "text": [
      "matam é um palíndromo.\n"
     ]
    }
   ],
   "source": [
    "def verificar_palindromo(palavra):\n",
    "    return palavra == palavra[::-1]\n",
    "\n",
    "palavra = input(\"Digite uma palavra: \").lower()\n",
    "if verificar_palindromo(palavra):\n",
    "    print(f\"{palavra} é um palíndromo.\")\n",
    "else:\n",
    "    print(f\"{palavra} não é um palíndromo.\")\n",
    "    "
   ]
  },
  {
   "cell_type": "markdown",
   "metadata": {},
   "source": [
    "   20. Jogo de Adivinhação \n",
    "Crie um programa onde o computador escolhe um número aleatório entre 1 e 100 e o usuário deve tentar adivinhar o número. O programa deve dar dicas se o número escolhido é maior ou menor que a tentativa do usuário."
   ]
  },
  {
   "cell_type": "code",
   "execution_count": 27,
   "metadata": {},
   "outputs": [
    {
     "name": "stdout",
     "output_type": "stream",
     "text": [
      "Tente adivinhar o número que estou pensando, entre 1 e 100.\n",
      "O número é maior do que isso.\n",
      "O número é menor do que isso.\n",
      "O número é menor do que isso.\n",
      "Parabéns! Você acertou o número em 4 tentativas.\n"
     ]
    }
   ],
   "source": [
    "import random\n",
    "\n",
    "def adivinhacao():\n",
    "    numero_secreto = random.randint(1, 100)\n",
    "    tentativas = 0\n",
    "    acertou = False\n",
    "\n",
    "    print(\"Tente adivinhar o número que estou pensando, entre 1 e 100.\")\n",
    "\n",
    "    while not acertou:\n",
    "        palpite = int(input(\"Digite seu palpite: \"))\n",
    "        tentativas += 1\n",
    "\n",
    "        if palpite < numero_secreto:\n",
    "            print(\"O número é maior do que isso.\")\n",
    "        elif palpite > numero_secreto:\n",
    "            print(\"O número é menor do que isso.\")\n",
    "        else:\n",
    "            acertou = True\n",
    "            print(f\"Parabéns! Você acertou o número em {tentativas} tentativas.\") \n",
    "            \n",
    "adivinhacao()"
   ]
  }
 ],
 "metadata": {
  "kernelspec": {
   "display_name": "base",
   "language": "python",
   "name": "python3"
  },
  "language_info": {
   "codemirror_mode": {
    "name": "ipython",
    "version": 3
   },
   "file_extension": ".py",
   "mimetype": "text/x-python",
   "name": "python",
   "nbconvert_exporter": "python",
   "pygments_lexer": "ipython3",
   "version": "3.12.4"
  }
 },
 "nbformat": 4,
 "nbformat_minor": 2
}
